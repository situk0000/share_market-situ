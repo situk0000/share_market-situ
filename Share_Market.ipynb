{
  "nbformat": 4,
  "nbformat_minor": 0,
  "metadata": {
    "colab": {
      "provenance": [],
      "authorship_tag": "ABX9TyM4Zy19o9RTc720Fg0Z8xPY",
      "include_colab_link": true
    },
    "kernelspec": {
      "name": "python3",
      "display_name": "Python 3"
    },
    "language_info": {
      "name": "python"
    }
  },
  "cells": [
    {
      "cell_type": "markdown",
      "metadata": {
        "id": "view-in-github",
        "colab_type": "text"
      },
      "source": [
        "<a href=\"https://colab.research.google.com/github/situk0000/share_market-situ/blob/main/Share_Market.ipynb\" target=\"_parent\"><img src=\"https://colab.research.google.com/assets/colab-badge.svg\" alt=\"Open In Colab\"/></a>"
      ]
    },
    {
      "cell_type": "code",
      "execution_count": 2,
      "metadata": {
        "id": "o4pWl2Q6pxYl"
      },
      "outputs": [],
      "source": [
        "import numpy as np\n",
        "import pandas as pd\n"
      ]
    },
    {
      "cell_type": "code",
      "source": [
        "data = pd.read_csv(\"ADANIPORTS.csv\")\n",
        "print(data.head())"
      ],
      "metadata": {
        "colab": {
          "base_uri": "https://localhost:8080/"
        },
        "id": "f7hnx_9Up2b9",
        "outputId": "c433dd04-2dab-4c75-9dc5-808b1171054a"
      },
      "execution_count": 4,
      "outputs": [
        {
          "output_type": "stream",
          "name": "stdout",
          "text": [
            "         Date      Symbol Series  Prev Close    Open     High    Low   Last  \\\n",
            "0  2007-11-27  MUNDRAPORT     EQ      440.00  770.00  1050.00  770.0  959.0   \n",
            "1  2007-11-28  MUNDRAPORT     EQ      962.90  984.00   990.00  874.0  885.0   \n",
            "2  2007-11-29  MUNDRAPORT     EQ      893.90  909.00   914.75  841.0  887.0   \n",
            "3  2007-11-30  MUNDRAPORT     EQ      884.20  890.00   958.00  890.0  929.0   \n",
            "4  2007-12-03  MUNDRAPORT     EQ      921.55  939.75   995.00  922.0  980.0   \n",
            "\n",
            "    Close    VWAP    Volume      Turnover  Trades  Deliverable Volume  \\\n",
            "0  962.90  984.72  27294366  2.687719e+15     NaN             9859619   \n",
            "1  893.90  941.38   4581338  4.312765e+14     NaN             1453278   \n",
            "2  884.20  888.09   5124121  4.550658e+14     NaN             1069678   \n",
            "3  921.55  929.17   4609762  4.283257e+14     NaN             1260913   \n",
            "4  969.30  965.65   2977470  2.875200e+14     NaN              816123   \n",
            "\n",
            "   %Deliverble  \n",
            "0       0.3612  \n",
            "1       0.3172  \n",
            "2       0.2088  \n",
            "3       0.2735  \n",
            "4       0.2741  \n"
          ]
        }
      ]
    },
    {
      "cell_type": "code",
      "source": [
        "X = data[[\"Open\", \"High\", \"Low\", \"Last\", \"Volume\"]]\n",
        "print(X.head())\n"
      ],
      "metadata": {
        "colab": {
          "base_uri": "https://localhost:8080/"
        },
        "id": "p2duEPqJqC0q",
        "outputId": "5bcec6df-a909-46d8-8396-8dae21c956f8"
      },
      "execution_count": 5,
      "outputs": [
        {
          "output_type": "stream",
          "name": "stdout",
          "text": [
            "     Open     High    Low   Last    Volume\n",
            "0  770.00  1050.00  770.0  959.0  27294366\n",
            "1  984.00   990.00  874.0  885.0   4581338\n",
            "2  909.00   914.75  841.0  887.0   5124121\n",
            "3  890.00   958.00  890.0  929.0   4609762\n",
            "4  939.75   995.00  922.0  980.0   2977470\n"
          ]
        }
      ]
    },
    {
      "cell_type": "code",
      "source": [
        "y = data[\"Close\"]\n",
        "print(y.head())"
      ],
      "metadata": {
        "colab": {
          "base_uri": "https://localhost:8080/"
        },
        "id": "Th78MrMTqDMu",
        "outputId": "db060adf-d36b-4d68-e462-568ac29c42a7"
      },
      "execution_count": 6,
      "outputs": [
        {
          "output_type": "stream",
          "name": "stdout",
          "text": [
            "0    962.90\n",
            "1    893.90\n",
            "2    884.20\n",
            "3    921.55\n",
            "4    969.30\n",
            "Name: Close, dtype: float64\n"
          ]
        }
      ]
    },
    {
      "cell_type": "markdown",
      "source": [
        "Split the data\n"
      ],
      "metadata": {
        "id": "JMhaoPmqqXNe"
      }
    },
    {
      "cell_type": "code",
      "source": [
        "from sklearn.model_selection import train_test_split\n",
        "X_train, X_test, y_train, y_test = train_test_split(X, y, test_size=0.2, shuffle=False)\n",
        "\n",
        "y_test.head(), X_train.head()\n"
      ],
      "metadata": {
        "colab": {
          "base_uri": "https://localhost:8080/"
        },
        "id": "RuE-DjLoqWoe",
        "outputId": "9c26c451-2106-4d7a-b89c-c85a053ad761"
      },
      "execution_count": 7,
      "outputs": [
        {
          "output_type": "execute_result",
          "data": {
            "text/plain": [
              "(2657    378.25\n",
              " 2658    377.95\n",
              " 2659    384.50\n",
              " 2660    376.75\n",
              " 2661    378.65\n",
              " Name: Close, dtype: float64,\n",
              "      Open     High    Low   Last    Volume\n",
              " 0  770.00  1050.00  770.0  959.0  27294366\n",
              " 1  984.00   990.00  874.0  885.0   4581338\n",
              " 2  909.00   914.75  841.0  887.0   5124121\n",
              " 3  890.00   958.00  890.0  929.0   4609762\n",
              " 4  939.75   995.00  922.0  980.0   2977470)"
            ]
          },
          "metadata": {},
          "execution_count": 7
        }
      ]
    },
    {
      "cell_type": "markdown",
      "source": [
        "PreProcessing\n"
      ],
      "metadata": {
        "id": "H5FGeFpnqg_6"
      }
    },
    {
      "cell_type": "code",
      "source": [
        "from sklearn.preprocessing import MinMaxScaler\n",
        "scaler = MinMaxScaler(feature_range=(0, 1))\n",
        "X_train_scaled = scaler.fit_transform(X_train)\n",
        "X_test_scaled = scaler.transform(X_test)\n",
        "print( X_train_scaled[:5])"
      ],
      "metadata": {
        "colab": {
          "base_uri": "https://localhost:8080/"
        },
        "id": "72XAsjnuqDuY",
        "outputId": "523d66f4-cadd-4192-af36-604091d118e0"
      },
      "execution_count": 8,
      "outputs": [
        {
          "output_type": "stream",
          "name": "stdout",
          "text": [
            "[[0.55063423 0.77421614 0.57057586 0.70916667 0.90800104]\n",
            " [0.72863381 0.72477442 0.65989608 0.6475     0.15206478]\n",
            " [0.66625078 0.66276626 0.63155409 0.64916667 0.17012971]\n",
            " [0.65044708 0.6984055  0.67363765 0.68416667 0.15301079]\n",
            " [0.69182782 0.72889457 0.7011208  0.72666667 0.09868476]]\n"
          ]
        }
      ]
    },
    {
      "cell_type": "markdown",
      "source": [
        "Linear regression"
      ],
      "metadata": {
        "id": "lPvXsNQUqrtF"
      }
    },
    {
      "cell_type": "code",
      "source": [
        "from sklearn.linear_model import LinearRegression\n",
        "lin_reg = LinearRegression() #class model...object of the classs\n",
        "\n",
        "lin_reg.fit(X_train_scaled , y_train)\n",
        "preds_lr = []\n",
        "\n",
        "current_input = X_test_scaled[-1].reshape(1,-1)\n",
        "\n",
        "\n",
        "for i in range(3):\n",
        "\n",
        "    next_pred = lin_reg.predict(current_input)[0]\n",
        "    preds_lr.append(next_pred)\n",
        "    new_input = current_input.copy()\n",
        "    new_input[0,3] = next_pred\n",
        "    current_input = new_input\n",
        "print(\"Linear Regression - next 3 days prediction:\" , preds_lr)"
      ],
      "metadata": {
        "colab": {
          "base_uri": "https://localhost:8080/"
        },
        "id": "ro5FCApVqmsZ",
        "outputId": "eb34c596-7043-4e41-9d08-5d3d6f181e0d"
      },
      "execution_count": 9,
      "outputs": [
        {
          "output_type": "stream",
          "name": "stdout",
          "text": [
            "Linear Regression - next 3 days prediction: [np.float64(728.184887050524), np.float64(769554.0225701921), np.float64(813079435.1625377)]\n"
          ]
        }
      ]
    },
    {
      "cell_type": "markdown",
      "source": [
        "SVR - Support Vector Regression"
      ],
      "metadata": {
        "id": "3nsm8jaJqyPf"
      }
    },
    {
      "cell_type": "code",
      "source": [
        "from sklearn.svm import SVR\n",
        "svm_model = SVR()\n",
        "svm_model.fit(X_train_scaled , y_train)\n",
        "preds_svm = []\n",
        "current_input = X_test_scaled[-1].reshape(1,-1)\n",
        "\n",
        "for i in range(3):\n",
        "    next_pred = svm_model.predict(current_input)[0]\n",
        "    preds_svm.append(next_pred)\n",
        "    current_input[0,3] = next_pred  # update close price\n",
        "    current_input = current_input\n",
        "print(\"SVM-- Next 3 days prediction:\" , preds_svm)\n"
      ],
      "metadata": {
        "colab": {
          "base_uri": "https://localhost:8080/"
        },
        "id": "Q5OHM7vJqnKV",
        "outputId": "79aebc3a-9049-4c1a-ec0b-d00e9660eb78"
      },
      "execution_count": 10,
      "outputs": [
        {
          "output_type": "stream",
          "name": "stdout",
          "text": [
            "SVM-- Next 3 days prediction: [np.float64(482.60515328323754), np.float64(402.52410246319624), np.float64(402.52410246319624)]\n"
          ]
        }
      ]
    },
    {
      "cell_type": "markdown",
      "source": [
        "Random Forest Regressor\n"
      ],
      "metadata": {
        "id": "kOBe8SL-q5UC"
      }
    },
    {
      "cell_type": "code",
      "source": [
        "from sklearn.ensemble import RandomForestRegressor\n",
        "rf_model = RandomForestRegressor(n_estimators=100,random_state=42)\n",
        "rf_model.fit(X_train_scaled , y_train)\n",
        "preds_rf = []\n",
        "current_input = X_test_scaled[-1].reshape(1,-1)\n",
        "for i in range(3):   # next 3 days prediction\n",
        "    next_pred = rf_model.predict(current_input)[0]\n",
        "    preds_rf.append(next_pred)\n",
        "    current_input = np.roll(current_input, -1)\n",
        "    current_input[0, -1] = next_pred  # replace last value with prediction\n",
        "\n",
        "print(\" RandomForestRegressor-Next 3 days predictions:\", preds_rf)"
      ],
      "metadata": {
        "colab": {
          "base_uri": "https://localhost:8080/"
        },
        "id": "YB-X1ajuq9ok",
        "outputId": "9ebf60c5-b547-4c06-f4d7-a5b7e826e5bc"
      },
      "execution_count": 11,
      "outputs": [
        {
          "output_type": "stream",
          "name": "stdout",
          "text": [
            " RandomForestRegressor-Next 3 days predictions: [np.float64(1041.4610000000005), np.float64(609.2424999999992), np.float64(1181.9640000000006)]\n"
          ]
        }
      ]
    },
    {
      "cell_type": "markdown",
      "source": [
        " LSTM-- Long Short-Term Memory"
      ],
      "metadata": {
        "id": "5gecVUVzrbe1"
      }
    },
    {
      "cell_type": "code",
      "source": [
        "# Import libraries\n",
        "import numpy as np\n",
        "import pandas as pd\n",
        "import matplotlib.pyplot as plt\n",
        "\n",
        "from sklearn.preprocessing import MinMaxScaler\n",
        "from tensorflow.keras.models import Sequential\n",
        "from tensorflow.keras.layers import LSTM, Dense, Dropout\n",
        "\n",
        "# STEP 1 : upload dataset\n",
        "\n",
        "#data = pd.read_csv(\"ADANIPORTS.csv\")\n",
        "\n",
        "dataset = data[['Close']].values\n",
        "\n",
        "# ----------------------------\n",
        "# STEP 2: Normalize the data\n",
        "# ----------------------------\n",
        "scaler = MinMaxScaler(feature_range=(0,1))\n",
        "scaled_data = scaler.fit_transform(dataset)\n",
        "\n",
        "# ----------------------------\n",
        "# STEP 3: Create sequences\n",
        "# ----------------------------\n",
        "def create_dataset(series, time_step=60):\n",
        "    X, y = [], []\n",
        "    for i in range(time_step, len(series)):\n",
        "        X.append(series[i-time_step:i, 0])  # past 60 values\n",
        "        y.append(series[i, 0])              # next value\n",
        "    return np.array(X), np.array(y)\n",
        "\n",
        "time_step = 60\n",
        "X, y = create_dataset(scaled_data, time_step)\n",
        "\n",
        "# Reshape X for LSTM [samples, time_steps, features]\n",
        "X = np.reshape(X, (X.shape[0], X.shape[1], 1))\n",
        "\n",
        "# ----------------------------\n",
        "# STEP 4: Build LSTM model\n",
        "# ----------------------------\n",
        "model = Sequential()\n",
        "\n",
        "model.add(LSTM(units=50, return_sequences=True, input_shape=(X.shape[1],1)))\n",
        "model.add(Dropout(0.2))\n",
        "\n",
        "model.add(LSTM(units=50, return_sequences=True))\n",
        "model.add(Dropout(0.2))\n",
        "\n",
        "model.add(LSTM(units=50))\n",
        "model.add(Dropout(0.2))\n",
        "\n",
        "model.add(Dense(units=1))  # prediction for next closing price\n",
        "\n",
        "model.compile(optimizer='adam', loss='mean_squared_error')\n",
        "\n",
        "# ----------------------------\n",
        "# STEP 5: Train the model\n",
        "# ----------------------------\n",
        "model.fit(X, y, epochs=50, batch_size=32)\n",
        "\n",
        "# ----------------------------\n",
        "# STEP 6: Predictions\n",
        "# ----------------------------\n",
        "predicted = model.predict(X)\n",
        "predicted = scaler.inverse_transform(predicted)  # convert back to original scale\n",
        "real = scaler.inverse_transform(y.reshape(-1,1))\n",
        "\n",
        "# Create a DataFrame for easy viewing\n",
        "results = pd.DataFrame({'Real Price': real.flatten(), 'Predicted Price': predicted.flatten()})\n",
        "print(\"--- Real vs. Predicted Prices ---\")\n",
        "print(results)\n",
        "\n",
        "# ----------------------------\n",
        "# STEP 7: Plot results\n",
        "# ----------------------------\n",
        "plt.figure(figsize=(12,6))\n",
        "plt.plot(real, color='blue', label=\"Real Close Price\")\n",
        "plt.plot(predicted, color='red', label=\"Predicted Close Price\")\n",
        "plt.title(\"LSTM Stock Price Prediction\")\n",
        "plt.xlabel(\"Time\")\n",
        "plt.ylabel(\"Close Price\")\n",
        "plt.legend()\n",
        "plt.show()\n"
      ],
      "metadata": {
        "colab": {
          "base_uri": "https://localhost:8080/",
          "height": 1000
        },
        "id": "kUPc0xBGubxK",
        "outputId": "d56c6a38-32ef-427e-c370-41c6e29595ca"
      },
      "execution_count": 12,
      "outputs": [
        {
          "output_type": "stream",
          "name": "stderr",
          "text": [
            "/usr/local/lib/python3.12/dist-packages/keras/src/layers/rnn/rnn.py:199: UserWarning: Do not pass an `input_shape`/`input_dim` argument to a layer. When using Sequential models, prefer using an `Input(shape)` object as the first layer in the model instead.\n",
            "  super().__init__(**kwargs)\n"
          ]
        },
        {
          "output_type": "stream",
          "name": "stdout",
          "text": [
            "Epoch 1/50\n",
            "\u001b[1m102/102\u001b[0m \u001b[32m━━━━━━━━━━━━━━━━━━━━\u001b[0m\u001b[37m\u001b[0m \u001b[1m13s\u001b[0m 72ms/step - loss: 0.0070\n",
            "Epoch 2/50\n",
            "\u001b[1m102/102\u001b[0m \u001b[32m━━━━━━━━━━━━━━━━━━━━\u001b[0m\u001b[37m\u001b[0m \u001b[1m8s\u001b[0m 82ms/step - loss: 0.0016\n",
            "Epoch 3/50\n",
            "\u001b[1m102/102\u001b[0m \u001b[32m━━━━━━━━━━━━━━━━━━━━\u001b[0m\u001b[37m\u001b[0m \u001b[1m10s\u001b[0m 83ms/step - loss: 0.0012\n",
            "Epoch 4/50\n",
            "\u001b[1m102/102\u001b[0m \u001b[32m━━━━━━━━━━━━━━━━━━━━\u001b[0m\u001b[37m\u001b[0m \u001b[1m9s\u001b[0m 72ms/step - loss: 0.0016\n",
            "Epoch 5/50\n",
            "\u001b[1m102/102\u001b[0m \u001b[32m━━━━━━━━━━━━━━━━━━━━\u001b[0m\u001b[37m\u001b[0m \u001b[1m16s\u001b[0m 159ms/step - loss: 0.0012\n",
            "Epoch 6/50\n",
            "\u001b[1m102/102\u001b[0m \u001b[32m━━━━━━━━━━━━━━━━━━━━\u001b[0m\u001b[37m\u001b[0m \u001b[1m11s\u001b[0m 103ms/step - loss: 0.0010\n",
            "Epoch 7/50\n",
            "\u001b[1m102/102\u001b[0m \u001b[32m━━━━━━━━━━━━━━━━━━━━\u001b[0m\u001b[37m\u001b[0m \u001b[1m8s\u001b[0m 80ms/step - loss: 8.3303e-04\n",
            "Epoch 8/50\n",
            "\u001b[1m102/102\u001b[0m \u001b[32m━━━━━━━━━━━━━━━━━━━━\u001b[0m\u001b[37m\u001b[0m \u001b[1m10s\u001b[0m 83ms/step - loss: 0.0014\n",
            "Epoch 9/50\n",
            "\u001b[1m102/102\u001b[0m \u001b[32m━━━━━━━━━━━━━━━━━━━━\u001b[0m\u001b[37m\u001b[0m \u001b[1m8s\u001b[0m 80ms/step - loss: 8.4068e-04\n",
            "Epoch 10/50\n",
            "\u001b[1m102/102\u001b[0m \u001b[32m━━━━━━━━━━━━━━━━━━━━\u001b[0m\u001b[37m\u001b[0m \u001b[1m8s\u001b[0m 74ms/step - loss: 0.0011\n",
            "Epoch 11/50\n",
            "\u001b[1m102/102\u001b[0m \u001b[32m━━━━━━━━━━━━━━━━━━━━\u001b[0m\u001b[37m\u001b[0m \u001b[1m11s\u001b[0m 82ms/step - loss: 6.6420e-04\n",
            "Epoch 12/50\n",
            "\u001b[1m102/102\u001b[0m \u001b[32m━━━━━━━━━━━━━━━━━━━━\u001b[0m\u001b[37m\u001b[0m \u001b[1m8s\u001b[0m 83ms/step - loss: 7.9296e-04\n",
            "Epoch 13/50\n",
            "\u001b[1m102/102\u001b[0m \u001b[32m━━━━━━━━━━━━━━━━━━━━\u001b[0m\u001b[37m\u001b[0m \u001b[1m7s\u001b[0m 72ms/step - loss: 8.1608e-04\n",
            "Epoch 14/50\n",
            "\u001b[1m102/102\u001b[0m \u001b[32m━━━━━━━━━━━━━━━━━━━━\u001b[0m\u001b[37m\u001b[0m \u001b[1m8s\u001b[0m 83ms/step - loss: 0.0012\n",
            "Epoch 15/50\n",
            "\u001b[1m102/102\u001b[0m \u001b[32m━━━━━━━━━━━━━━━━━━━━\u001b[0m\u001b[37m\u001b[0m \u001b[1m8s\u001b[0m 83ms/step - loss: 5.6237e-04\n",
            "Epoch 16/50\n",
            "\u001b[1m102/102\u001b[0m \u001b[32m━━━━━━━━━━━━━━━━━━━━\u001b[0m\u001b[37m\u001b[0m \u001b[1m8s\u001b[0m 80ms/step - loss: 9.2475e-04\n",
            "Epoch 17/50\n",
            "\u001b[1m102/102\u001b[0m \u001b[32m━━━━━━━━━━━━━━━━━━━━\u001b[0m\u001b[37m\u001b[0m \u001b[1m8s\u001b[0m 83ms/step - loss: 4.3984e-04\n",
            "Epoch 18/50\n",
            "\u001b[1m102/102\u001b[0m \u001b[32m━━━━━━━━━━━━━━━━━━━━\u001b[0m\u001b[37m\u001b[0m \u001b[1m8s\u001b[0m 77ms/step - loss: 7.4288e-04\n",
            "Epoch 19/50\n",
            "\u001b[1m102/102\u001b[0m \u001b[32m━━━━━━━━━━━━━━━━━━━━\u001b[0m\u001b[37m\u001b[0m \u001b[1m8s\u001b[0m 78ms/step - loss: 5.9657e-04\n",
            "Epoch 20/50\n",
            "\u001b[1m102/102\u001b[0m \u001b[32m━━━━━━━━━━━━━━━━━━━━\u001b[0m\u001b[37m\u001b[0m \u001b[1m8s\u001b[0m 83ms/step - loss: 7.2156e-04\n",
            "Epoch 21/50\n",
            "\u001b[1m102/102\u001b[0m \u001b[32m━━━━━━━━━━━━━━━━━━━━\u001b[0m\u001b[37m\u001b[0m \u001b[1m7s\u001b[0m 73ms/step - loss: 6.2131e-04\n",
            "Epoch 22/50\n",
            "\u001b[1m102/102\u001b[0m \u001b[32m━━━━━━━━━━━━━━━━━━━━\u001b[0m\u001b[37m\u001b[0m \u001b[1m8s\u001b[0m 83ms/step - loss: 5.3861e-04\n",
            "Epoch 23/50\n",
            "\u001b[1m102/102\u001b[0m \u001b[32m━━━━━━━━━━━━━━━━━━━━\u001b[0m\u001b[37m\u001b[0m \u001b[1m8s\u001b[0m 83ms/step - loss: 6.0131e-04\n",
            "Epoch 24/50\n",
            "\u001b[1m102/102\u001b[0m \u001b[32m━━━━━━━━━━━━━━━━━━━━\u001b[0m\u001b[37m\u001b[0m \u001b[1m8s\u001b[0m 73ms/step - loss: 7.7757e-04\n",
            "Epoch 25/50\n",
            "\u001b[1m102/102\u001b[0m \u001b[32m━━━━━━━━━━━━━━━━━━━━\u001b[0m\u001b[37m\u001b[0m \u001b[1m10s\u001b[0m 74ms/step - loss: 4.1175e-04\n",
            "Epoch 26/50\n",
            "\u001b[1m102/102\u001b[0m \u001b[32m━━━━━━━━━━━━━━━━━━━━\u001b[0m\u001b[37m\u001b[0m \u001b[1m11s\u001b[0m 83ms/step - loss: 5.3850e-04\n",
            "Epoch 27/50\n",
            "\u001b[1m102/102\u001b[0m \u001b[32m━━━━━━━━━━━━━━━━━━━━\u001b[0m\u001b[37m\u001b[0m \u001b[1m8s\u001b[0m 83ms/step - loss: 5.7448e-04\n",
            "Epoch 28/50\n",
            "\u001b[1m102/102\u001b[0m \u001b[32m━━━━━━━━━━━━━━━━━━━━\u001b[0m\u001b[37m\u001b[0m \u001b[1m7s\u001b[0m 73ms/step - loss: 6.6832e-04\n",
            "Epoch 29/50\n",
            "\u001b[1m102/102\u001b[0m \u001b[32m━━━━━━━━━━━━━━━━━━━━\u001b[0m\u001b[37m\u001b[0m \u001b[1m10s\u001b[0m 74ms/step - loss: 4.7159e-04\n",
            "Epoch 30/50\n",
            "\u001b[1m102/102\u001b[0m \u001b[32m━━━━━━━━━━━━━━━━━━━━\u001b[0m\u001b[37m\u001b[0m \u001b[1m8s\u001b[0m 82ms/step - loss: 4.1375e-04\n",
            "Epoch 31/50\n",
            "\u001b[1m102/102\u001b[0m \u001b[32m━━━━━━━━━━━━━━━━━━━━\u001b[0m\u001b[37m\u001b[0m \u001b[1m8s\u001b[0m 77ms/step - loss: 4.0758e-04\n",
            "Epoch 32/50\n",
            "\u001b[1m102/102\u001b[0m \u001b[32m━━━━━━━━━━━━━━━━━━━━\u001b[0m\u001b[37m\u001b[0m \u001b[1m8s\u001b[0m 78ms/step - loss: 4.3568e-04\n",
            "Epoch 33/50\n",
            "\u001b[1m102/102\u001b[0m \u001b[32m━━━━━━━━━━━━━━━━━━━━\u001b[0m\u001b[37m\u001b[0m \u001b[1m8s\u001b[0m 83ms/step - loss: 3.9184e-04\n",
            "Epoch 34/50\n",
            "\u001b[1m102/102\u001b[0m \u001b[32m━━━━━━━━━━━━━━━━━━━━\u001b[0m\u001b[37m\u001b[0m \u001b[1m10s\u001b[0m 82ms/step - loss: 5.0737e-04\n",
            "Epoch 35/50\n",
            "\u001b[1m102/102\u001b[0m \u001b[32m━━━━━━━━━━━━━━━━━━━━\u001b[0m\u001b[37m\u001b[0m \u001b[1m9s\u001b[0m 85ms/step - loss: 5.3709e-04\n",
            "Epoch 36/50\n",
            "\u001b[1m102/102\u001b[0m \u001b[32m━━━━━━━━━━━━━━━━━━━━\u001b[0m\u001b[37m\u001b[0m \u001b[1m10s\u001b[0m 84ms/step - loss: 3.6711e-04\n",
            "Epoch 37/50\n",
            "\u001b[1m102/102\u001b[0m \u001b[32m━━━━━━━━━━━━━━━━━━━━\u001b[0m\u001b[37m\u001b[0m \u001b[1m8s\u001b[0m 79ms/step - loss: 4.2882e-04\n",
            "Epoch 38/50\n",
            "\u001b[1m102/102\u001b[0m \u001b[32m━━━━━━━━━━━━━━━━━━━━\u001b[0m\u001b[37m\u001b[0m \u001b[1m10s\u001b[0m 73ms/step - loss: 3.5678e-04\n",
            "Epoch 39/50\n",
            "\u001b[1m102/102\u001b[0m \u001b[32m━━━━━━━━━━━━━━━━━━━━\u001b[0m\u001b[37m\u001b[0m \u001b[1m10s\u001b[0m 73ms/step - loss: 4.2354e-04\n",
            "Epoch 40/50\n",
            "\u001b[1m102/102\u001b[0m \u001b[32m━━━━━━━━━━━━━━━━━━━━\u001b[0m\u001b[37m\u001b[0m \u001b[1m9s\u001b[0m 84ms/step - loss: 3.9390e-04\n",
            "Epoch 41/50\n",
            "\u001b[1m102/102\u001b[0m \u001b[32m━━━━━━━━━━━━━━━━━━━━\u001b[0m\u001b[37m\u001b[0m \u001b[1m10s\u001b[0m 83ms/step - loss: 3.9661e-04\n",
            "Epoch 42/50\n",
            "\u001b[1m102/102\u001b[0m \u001b[32m━━━━━━━━━━━━━━━━━━━━\u001b[0m\u001b[37m\u001b[0m \u001b[1m9s\u001b[0m 73ms/step - loss: 6.8348e-04\n",
            "Epoch 43/50\n",
            "\u001b[1m102/102\u001b[0m \u001b[32m━━━━━━━━━━━━━━━━━━━━\u001b[0m\u001b[37m\u001b[0m \u001b[1m8s\u001b[0m 82ms/step - loss: 3.2772e-04\n",
            "Epoch 44/50\n",
            "\u001b[1m102/102\u001b[0m \u001b[32m━━━━━━━━━━━━━━━━━━━━\u001b[0m\u001b[37m\u001b[0m \u001b[1m9s\u001b[0m 84ms/step - loss: 4.1120e-04\n",
            "Epoch 45/50\n",
            "\u001b[1m102/102\u001b[0m \u001b[32m━━━━━━━━━━━━━━━━━━━━\u001b[0m\u001b[37m\u001b[0m \u001b[1m7s\u001b[0m 73ms/step - loss: 7.3797e-04\n",
            "Epoch 46/50\n",
            "\u001b[1m102/102\u001b[0m \u001b[32m━━━━━━━━━━━━━━━━━━━━\u001b[0m\u001b[37m\u001b[0m \u001b[1m8s\u001b[0m 83ms/step - loss: 5.0079e-04\n",
            "Epoch 47/50\n",
            "\u001b[1m102/102\u001b[0m \u001b[32m━━━━━━━━━━━━━━━━━━━━\u001b[0m\u001b[37m\u001b[0m \u001b[1m9s\u001b[0m 84ms/step - loss: 3.3775e-04\n",
            "Epoch 48/50\n",
            "\u001b[1m102/102\u001b[0m \u001b[32m━━━━━━━━━━━━━━━━━━━━\u001b[0m\u001b[37m\u001b[0m \u001b[1m7s\u001b[0m 73ms/step - loss: 4.3617e-04\n",
            "Epoch 49/50\n",
            "\u001b[1m102/102\u001b[0m \u001b[32m━━━━━━━━━━━━━━━━━━━━\u001b[0m\u001b[37m\u001b[0m \u001b[1m9s\u001b[0m 84ms/step - loss: 5.3397e-04\n",
            "Epoch 50/50\n",
            "\u001b[1m102/102\u001b[0m \u001b[32m━━━━━━━━━━━━━━━━━━━━\u001b[0m\u001b[37m\u001b[0m \u001b[1m10s\u001b[0m 83ms/step - loss: 4.5529e-04\n",
            "\u001b[1m102/102\u001b[0m \u001b[32m━━━━━━━━━━━━━━━━━━━━\u001b[0m\u001b[37m\u001b[0m \u001b[1m3s\u001b[0m 25ms/step\n",
            "--- Real vs. Predicted Prices ---\n",
            "      Real Price  Predicted Price\n",
            "0         737.60       715.401367\n",
            "1         724.00       712.194153\n",
            "2         707.65       709.108826\n",
            "3         735.80       696.608521\n",
            "4         746.40       715.310059\n",
            "...          ...              ...\n",
            "3257      730.75       716.622009\n",
            "3258      749.15       715.778809\n",
            "3259      746.25       730.231873\n",
            "3260      746.75       732.153259\n",
            "3261      730.05       729.714600\n",
            "\n",
            "[3262 rows x 2 columns]\n"
          ]
        },
        {
          "output_type": "display_data",
          "data": {
            "text/plain": [
              "<Figure size 1200x600 with 1 Axes>"
            ],
            "image/png": "[encoded data removed]"
          },
          "metadata": {}
        }
      ]
    },
    {
      "cell_type": "code",
      "source": [
        "model.save(\"lstm_close_model.h5\")\n",
        "import joblib\n",
        "joblib.dump(scaler, \"lstm_scaler.pkl\")\n",
        "print(\"✅ LSTM model and scaler saved!\")\n"
      ],
      "metadata": {
        "colab": {
          "base_uri": "https://localhost:8080/"
        },
        "id": "uzkF0vL1wVzU",
        "outputId": "608dd181-b99c-496b-e67e-c0ab38830047"
      },
      "execution_count": null,
      "outputs": [
        {
          "output_type": "stream",
          "name": "stderr",
          "text": [
            "WARNING:absl:You are saving your model as an HDF5 file via `model.save()` or `keras.saving.save_model(model)`. This file format is considered legacy. We recommend using instead the native Keras format, e.g. `model.save('my_model.keras')` or `keras.saving.save_model(model, 'my_model.keras')`. \n"
          ]
        },
        {
          "output_type": "stream",
          "name": "stdout",
          "text": [
            "✅ LSTM model and scaler saved!\n"
          ]
        }
      ]
    }
  ]
}